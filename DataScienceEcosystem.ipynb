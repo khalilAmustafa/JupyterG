{
 "cells": [
  {
   "cell_type": "markdown",
   "id": "b1144dd3-c42d-4b97-bfe1-28bca4b013db",
   "metadata": {
    "tags": []
   },
   "source": [
    "# Data Science Tools and Ecosystem\n"
   ]
  },
  {
   "cell_type": "markdown",
   "id": "53ea6a7c-c69c-4f8f-815c-9d12e5eabf77",
   "metadata": {},
   "source": [
    "In this notebook, Data Science Tools and Ecosystem are summarized."
   ]
  },
  {
   "cell_type": "markdown",
   "id": "ac9c0407-1b4f-43ef-9f9a-4953113f1dc2",
   "metadata": {},
   "source": [
    "**Objectives**\n",
    "- data science languages\n",
    "- data science libraries\n",
    "- data science tools\n",
    "-examples of evaluating arithmetic expressions in Python\n"
   ]
  },
  {
   "cell_type": "markdown",
   "id": "dd4fcfdf-0324-4320-9fb0-2a9684c0bac9",
   "metadata": {},
   "source": [
    "Some of the popular languages that Some of the popular languages that Data Scientists use are:\n",
    "\n",
    "1. Python\n",
    "2. R\n",
    "3. SQL"
   ]
  },
  {
   "cell_type": "markdown",
   "id": "87c34124-9139-4d05-ae5e-c82b346be364",
   "metadata": {},
   "source": [
    "Some of the commonly used libraries used by Data Scientists include:\n",
    "\n",
    "1. NumPy\n",
    "2. Pandas\n",
    "3. Scikit-learn\n",
    "\n"
   ]
  },
  {
   "cell_type": "markdown",
   "id": "035b4125-5243-47bc-94b8-9830850714e1",
   "metadata": {},
   "source": [
    "| Data Science Tools |\n",
    "|--------------------|\n",
    "| Jupyter Notebooks  |\n",
    "| R Studio           |\n",
    "|Apache Hadoop|\n"
   ]
  },
  {
   "cell_type": "markdown",
   "id": "4e55d040-9187-4144-91b9-93476afb3907",
   "metadata": {},
   "source": [
    "### Below are a few examples of evaluating arithmetic expressions in Python"
   ]
  },
  {
   "cell_type": "code",
   "execution_count": 4,
   "id": "24b1be00-1c7c-4edb-bb9c-9edd8435ca34",
   "metadata": {
    "tags": []
   },
   "outputs": [
    {
     "data": {
      "text/plain": [
       "17"
      ]
     },
     "execution_count": 4,
     "metadata": {},
     "output_type": "execute_result"
    }
   ],
   "source": [
    "# This a simple arithmetic expression to mutiply then add integers\n",
    "(3*4)+5"
   ]
  },
  {
   "cell_type": "code",
   "execution_count": 5,
   "id": "5d68f504-dc13-4159-96c5-c78635e11124",
   "metadata": {
    "tags": []
   },
   "outputs": [
    {
     "data": {
      "text/plain": [
       "3.3333333333333335"
      ]
     },
     "execution_count": 5,
     "metadata": {},
     "output_type": "execute_result"
    }
   ],
   "source": [
    "# his will convert 200 minutes to hours by diving by 60\n",
    "200/60"
   ]
  },
  {
   "cell_type": "markdown",
   "id": "20f33828-bf57-4d6e-91d0-6989ee42d54a",
   "metadata": {
    "tags": []
   },
   "source": [
    "## Author\n",
    "khalil asad"
   ]
  },
  {
   "cell_type": "code",
   "execution_count": null,
   "id": "2ac81164-c0ce-4a4b-b910-0393f2e5c6ef",
   "metadata": {},
   "outputs": [],
   "source": []
  }
 ],
 "metadata": {
  "kernelspec": {
   "display_name": "Python",
   "language": "python",
   "name": "conda-env-python-py"
  },
  "language_info": {
   "codemirror_mode": {
    "name": "ipython",
    "version": 3
   },
   "file_extension": ".py",
   "mimetype": "text/x-python",
   "name": "python",
   "nbconvert_exporter": "python",
   "pygments_lexer": "ipython3",
   "version": "3.7.12"
  }
 },
 "nbformat": 4,
 "nbformat_minor": 5
}
